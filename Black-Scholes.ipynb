{
 "cells": [
  {
   "cell_type": "markdown",
   "id": "9b762af4-a462-4cf5-a1a4-c3cff83ad051",
   "metadata": {},
   "source": [
    "# Option pricing using Black-Scholes-Merton\n"
   ]
  },
  {
   "cell_type": "markdown",
   "id": "c94a78b6-3975-455f-925f-5da44e2dc9a9",
   "metadata": {},
   "source": [
    "5 key variables:\n",
    " - Underlying Price (S)\n",
    " - Strike Price (K)\n",
    " - Time to Expiration (T)\n",
    " - Risk Free Rate (r)\n",
    " - Volatility (σ)\n"
   ]
  },
  {
   "cell_type": "code",
   "execution_count": 2,
   "id": "0545cd89-eec0-4aa5-8225-819a94237564",
   "metadata": {},
   "outputs": [],
   "source": [
    "import math\n",
    "from scipy.stats import norm\n"
   ]
  },
  {
   "cell_type": "markdown",
   "id": "39aabf53-e540-46f4-b8e9-921aca9bc1d5",
   "metadata": {},
   "source": [
    "### Variables\n"
   ]
  },
  {
   "cell_type": "code",
   "execution_count": 4,
   "id": "4b5ddd98-7b22-4721-98fc-fc5ff9ee94e9",
   "metadata": {},
   "outputs": [],
   "source": [
    "# I was reading John Hull's options futures and derivatives\n",
    "#so we're using that example\n",
    "\n",
    "#Underlying Price\n",
    "S = 42\n",
    "# Strike Price\n",
    "K = 40\n",
    "#Time to expiration in years\n",
    "T = 0.5\n",
    "#Risk-Free Rate (10 year treasu note yield)\n",
    "r = 0.0453\n",
    "#volatility\n",
    "vol = 0.2\n"
   ]
  },
  {
   "cell_type": "markdown",
   "id": "7bf5f83f-eff8-4746-abde-8017f7361340",
   "metadata": {},
   "source": [
    "## Calculate D1"
   ]
  },
  {
   "cell_type": "code",
   "execution_count": 7,
   "id": "b5bb88f7-b1a5-4e31-bb75-261bfeeb4c4a",
   "metadata": {},
   "outputs": [],
   "source": [
    "d1 = (math.log(S/K)+(r+0.5*vol**2)*T)/(vol*math.sqrt(T))"
   ]
  },
  {
   "cell_type": "markdown",
   "id": "6f628851-bc9c-4514-8165-48873c97b5db",
   "metadata": {},
   "source": [
    "## Calculate D2"
   ]
  },
  {
   "cell_type": "code",
   "execution_count": 8,
   "id": "63509c63-1e2d-4023-a5f3-02f7e9a1e0a4",
   "metadata": {},
   "outputs": [],
   "source": [
    "d2 = d1 - (vol*math.sqrt(T))"
   ]
  },
  {
   "cell_type": "markdown",
   "id": "3320e658-c5cb-4936-a527-17f652f4f36a",
   "metadata": {},
   "source": [
    "## Calculate call Option Price"
   ]
  },
  {
   "cell_type": "code",
   "execution_count": 10,
   "id": "a0c51e55-622b-466d-a8d5-9200dc55b41f",
   "metadata": {},
   "outputs": [],
   "source": [
    "C = S * norm.cdf(d1) - K * math.exp(-r * T) * norm.cdf(d2)"
   ]
  },
  {
   "cell_type": "markdown",
   "id": "98648588-e32e-4a54-83ad-b6145410ecaa",
   "metadata": {},
   "source": [
    "## Calculate Put Option Price"
   ]
  },
  {
   "cell_type": "code",
   "execution_count": 11,
   "id": "af225013-4c1e-41a2-add9-8b5ae5668681",
   "metadata": {},
   "outputs": [],
   "source": [
    "P = K * math.exp(-r * T) * norm.cdf(-d2) - S * norm.cdf(-d1)\n"
   ]
  },
  {
   "cell_type": "code",
   "execution_count": null,
   "id": "63b7869c-da0d-4dbf-bde7-cb62ace356f2",
   "metadata": {},
   "outputs": [],
   "source": []
  }
 ],
 "metadata": {
  "kernelspec": {
   "display_name": "Python 3 (ipykernel)",
   "language": "python",
   "name": "python3"
  },
  "language_info": {
   "codemirror_mode": {
    "name": "ipython",
    "version": 3
   },
   "file_extension": ".py",
   "mimetype": "text/x-python",
   "name": "python",
   "nbconvert_exporter": "python",
   "pygments_lexer": "ipython3",
   "version": "3.13.0"
  }
 },
 "nbformat": 4,
 "nbformat_minor": 5
}
