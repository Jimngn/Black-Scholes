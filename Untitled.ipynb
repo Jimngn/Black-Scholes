{
 "cells": [
  {
   "cell_type": "markdown",
   "id": "9b762af4-a462-4cf5-a1a4-c3cff83ad051",
   "metadata": {},
   "source": [
    "# Option pricing using Black-Scholes-Merton\n"
   ]
  },
  {
   "cell_type": "markdown",
   "id": "c94a78b6-3975-455f-925f-5da44e2dc9a9",
   "metadata": {},
   "source": [
    "5 key variables:\n",
    " - Underlying Price (S)\n",
    " - Strike Price (K)\n",
    " - Time to Expiration (T)\n",
    " - Risk Free Rate (r)\n",
    " - Volatility (σ)\n"
   ]
  },
  {
   "cell_type": "code",
   "execution_count": 2,
   "id": "0545cd89-eec0-4aa5-8225-819a94237564",
   "metadata": {},
   "outputs": [],
   "source": [
    "import math\n",
    "from scipy.stats import norm\n"
   ]
  },
  {
   "cell_type": "markdown",
   "id": "39aabf53-e540-46f4-b8e9-921aca9bc1d5",
   "metadata": {},
   "source": [
    "### Variables\n"
   ]
  },
  {
   "cell_type": "code",
   "execution_count": null,
   "id": "4b5ddd98-7b22-4721-98fc-fc5ff9ee94e9",
   "metadata": {},
   "outputs": [],
   "source": [
    "# I was reading John Hull's options futures and derivatives\n",
    "#so we're using that example\n",
    "\n",
    "#Underlying Price\n",
    "S = 42\n",
    "# Strike Price\n",
    "K = 40\n",
    "#Time to expiration in years\n",
    "T = 0.5\n",
    "#Risk-Free Rate (10 year treasu note yield)\n",
    "r = 0."
   ]
  }
 ],
 "metadata": {
  "kernelspec": {
   "display_name": "Python 3 (ipykernel)",
   "language": "python",
   "name": "python3"
  },
  "language_info": {
   "codemirror_mode": {
    "name": "ipython",
    "version": 3
   },
   "file_extension": ".py",
   "mimetype": "text/x-python",
   "name": "python",
   "nbconvert_exporter": "python",
   "pygments_lexer": "ipython3",
   "version": "3.13.0"
  }
 },
 "nbformat": 4,
 "nbformat_minor": 5
}
